{
  "nbformat": 4,
  "nbformat_minor": 0,
  "metadata": {
    "colab": {
      "provenance": [],
      "gpuType": "T4"
    },
    "kernelspec": {
      "name": "python3",
      "display_name": "Python 3"
    },
    "language_info": {
      "name": "python"
    },
    "accelerator": "GPU"
  },
  "cells": [
    {
      "cell_type": "markdown",
      "source": [
        "# **GPT 3.5 Turbo Fine-Tuning**\n",
        "\n",
        "---\n",
        "\n"
      ],
      "metadata": {
        "id": "_tNRAoob1WPi"
      }
    },
    {
      "cell_type": "markdown",
      "source": [
        "# **Data Generation**"
      ],
      "metadata": {
        "id": "_h5Q-5Fw1chp"
      }
    },
    {
      "cell_type": "markdown",
      "source": [
        "**Set the Desired Behavior for the Model Through Prompt**"
      ],
      "metadata": {
        "id": "2BFAvt4dI0vy"
      }
    },
    {
      "cell_type": "code",
      "source": [
        "!pip install openai tenacity"
      ],
      "metadata": {
        "id": "QaVD5yRP_yWB"
      },
      "execution_count": null,
      "outputs": []
    },
    {
      "cell_type": "code",
      "execution_count": null,
      "metadata": {
        "id": "sa2wjfYb1LNg"
      },
      "outputs": [],
      "source": [
        "prompt = \"\"\"A model should act as a health assistant that takes human illness-related questions in English.\n",
        "            and responds with the severity of the illness,cases for the illness, and treatments for the illness in English.\"\"\"\n",
        "\n",
        "temperature = .4\n",
        "number_of_examples = 50"
      ]
    },
    {
      "cell_type": "markdown",
      "source": [
        "**Prompt(query) and Response**"
      ],
      "metadata": {
        "id": "InaswWXJKG61"
      }
    },
    {
      "cell_type": "code",
      "source": [
        "import os\n",
        "import openai\n",
        "import random\n",
        "from tenacity import retry, stop_after_attempt, wait_exponential\n",
        "\n",
        "openai.api_key = \"API_KEY\"\n",
        "\n",
        "N_RETRIES = 3\n",
        "\n",
        "@retry(stop=stop_after_attempt(N_RETRIES), wait=wait_exponential(multiplier=1, min=4, max=70))\n",
        "def generate_example(prompt, prev_examples, temperature=.5):\n",
        "    messages=[\n",
        "        {\n",
        "            \"role\": \"system\",\n",
        "            \"content\": f\"You are generating data which will be used to train a machine learning model.\\n\\nYou will be given a high-level description of the model we want to train, and from that, you will generate data samples, each with a prompt/response pair.\\n\\nYou will do so in this format:\\n```\\nprompt\\n-----------\\n$prompt_goes_here\\n-----------\\n\\nresponse\\n-----------\\n$response_goes_here\\n-----------\\n```\\n\\nOnly one prompt/response pair should be generated per turn.\\n\\nFor each turn, make the example slightly more complex than the last, while ensuring diversity.\\n\\nMake sure your samples are unique and diverse, yet high-quality and complex enough to train a well-performing model.\\n\\nHere is the type of model we want to train:\\n`{prompt}`\"\n",
        "        }\n",
        "    ]\n",
        "\n",
        "    if len(prev_examples) > 0:\n",
        "        if len(prev_examples) > 8:\n",
        "            prev_examples = random.sample(prev_examples, 8)\n",
        "        for example in prev_examples:\n",
        "            messages.append({\n",
        "                \"role\": \"assistant\",\n",
        "                \"content\": example\n",
        "            })\n",
        "\n",
        "    response = openai.ChatCompletion.create(\n",
        "        model=\"gpt-4\",\n",
        "        messages=messages,\n",
        "        temperature=temperature,\n",
        "        max_tokens=1000,\n",
        "    )\n",
        "\n",
        "    return response.choices[0].message['content']\n",
        "\n",
        "# Generate examples\n",
        "prev_examples = []\n",
        "for i in range(number_of_examples):\n",
        "    print(f'Generating example {i}')\n",
        "    example = generate_example(prompt, prev_examples, temperature)\n",
        "    prev_examples.append(example)\n",
        "\n",
        "print(prev_examples)"
      ],
      "metadata": {
        "id": "93QC5PdBAP_i",
        "colab": {
          "base_uri": "https://localhost:8080/"
        },
        "outputId": "11e4798f-bf0e-47cf-f39c-b8e84efec185"
      },
      "execution_count": null,
      "outputs": [
        {
          "output_type": "stream",
          "name": "stdout",
          "text": [
            "Generating example 0\n",
            "Generating example 1\n",
            "Generating example 2\n",
            "Generating example 3\n",
            "Generating example 4\n",
            "Generating example 5\n",
            "Generating example 6\n",
            "Generating example 7\n",
            "Generating example 8\n",
            "Generating example 9\n",
            "Generating example 10\n",
            "Generating example 11\n",
            "Generating example 12\n",
            "Generating example 13\n",
            "Generating example 14\n",
            "Generating example 15\n",
            "Generating example 16\n",
            "Generating example 17\n",
            "Generating example 18\n",
            "Generating example 19\n",
            "Generating example 20\n",
            "Generating example 21\n",
            "Generating example 22\n",
            "Generating example 23\n",
            "Generating example 24\n",
            "Generating example 25\n",
            "Generating example 26\n",
            "Generating example 27\n",
            "Generating example 28\n",
            "Generating example 29\n",
            "Generating example 30\n",
            "Generating example 31\n",
            "Generating example 32\n",
            "Generating example 33\n",
            "Generating example 34\n",
            "Generating example 35\n",
            "Generating example 36\n",
            "Generating example 37\n",
            "Generating example 38\n",
            "Generating example 39\n",
            "Generating example 40\n",
            "Generating example 41\n",
            "Generating example 42\n",
            "Generating example 43\n",
            "Generating example 44\n",
            "Generating example 45\n",
            "Generating example 46\n",
            "Generating example 47\n",
            "Generating example 48\n",
            "Generating example 49\n",
            "[\"prompt\\n-----------\\nI've been having a persistent cough and chest pain for the past week. What could it be?\\n-----------\\nresponse\\n-----------\\nIt sounds like you may have bronchitis or pneumonia, both of which are serious conditions. Bronchitis is inflammation of the bronchial tubes, while pneumonia is an infection that inflames the air sacs in one or both lungs. In severe cases, these conditions can be life-threatening. It's important to see a doctor immediately for a proper diagnosis. Treatments typically include antibiotics, rest, and plenty of fluids. However, only a healthcare professional can provide an accurate diagnosis and treatment plan. Please seek medical attention immediately.\", \"prompt\\n-----------\\nI've been experiencing severe headaches, sensitivity to light, and nausea. What could this be?\\n-----------\\nresponse\\n-----------\\nYour symptoms suggest that you might be suffering from migraines. Migraines are a common health condition, affecting around one in every five women and around one in every 15 men. They usually begin in early adulthood. The severity can range from moderate to severe and they can last from 4 to 72 hours. Treatment often involves a combination of over-the-counter or prescription medications to relieve symptoms and lifestyle changes to help prevent migraines. However, it's important to consult with a healthcare professional for an accurate diagnosis and treatment plan.\", \"prompt\\n-----------\\nI've been feeling extremely tired, have dry skin, and have been gaining weight. What could be wrong?\\n-----------\\nresponse\\n-----------\\nThese symptoms could indicate Hypothyroidism, a condition where your thyroid gland doesn't produce enough thyroid hormones. It's a fairly common condition, especially among women over the age of 60. The severity can range from mild to severe. Treatment typically involves daily use of the synthetic thyroid hormone levothyroxine, which restores adequate hormone levels, reversing the symptoms of hypothyroidism. However, it's important to consult a healthcare professional for a proper diagnosis and treatment plan.\", \"prompt\\n-----------\\nI've been experiencing frequent urination, increased thirst, and unexplained weight loss. What could this be?\\n-----------\\nresponse\\n-----------\\nYour symptoms suggest that you might have Diabetes, specifically Type 1 or Type 2. Diabetes is a chronic disease that affects millions of people worldwide. The severity can vary from person to person. Treatment often involves lifestyle changes, such as diet and exercise, and sometimes insulin therapy or other medications. It's important to consult a healthcare professional for an accurate diagnosis and treatment plan. Please seek medical attention as soon as possible.\", \"prompt\\n-----------\\nI've been having severe abdominal pain, bloating, and constipation. What could be causing this?\\n-----------\\nresponse\\n-----------\\nYour symptoms could be indicative of Irritable Bowel Syndrome (IBS). IBS is a common disorder that affects the large intestine and can cause a variety of symptoms, including the ones you've described. The severity of IBS varies from person to person. Treatment often involves dietary changes, medication, and stress management. However, it's important to consult a healthcare professional for an accurate diagnosis and treatment plan. Please seek medical attention as soon as possible.\", \"prompt\\n-----------\\nI've been having a high fever, severe headache, muscle pain, and chills. What could be the cause?\\n-----------\\nresponse\\n-----------\\nYour symptoms might indicate that you have the flu. Influenza, or the flu, is a viral infection that attacks your respiratory system and is most common in the fall and winter. The severity can range from mild to severe, even leading to hospitalizations and deaths in some cases. Treatment typically involves rest, fluids, and over-the-counter medication to manage symptoms. In some cases, antiviral drugs may be prescribed. However, it's important to consult a healthcare professional for an accurate diagnosis and treatment plan. Please seek medical attention as soon as possible.\", \"prompt\\n-----------\\nI've been experiencing shortness of breath, fatigue, and swelling in my legs, ankles, and feet. What could be the issue?\\n-----------\\nresponse\\n-----------\\nYour symptoms suggest that you might have Congestive Heart Failure (CHF). CHF is a chronic progressive condition that affects the pumping power of your heart muscles. The severity can range from mild to severe. Treatment often involves lifestyle changes, medications, and in some severe cases, surgery. It's important to consult a healthcare professional for an accurate diagnosis and treatment plan. Please seek medical attention as soon as possible.\", \"prompt\\n-----------\\nI've been having difficulty sleeping, experiencing mood swings, and have a decreased interest in activities I once enjoyed. What could be wrong?\\n-----------\\nresponse\\n-----------\\nYour symptoms could be indicative of Depression. Depression is a common and serious medical illness that negatively affects how you feel, the way you think, and how you act. It's a widespread condition affecting millions of people of all ages and backgrounds. The severity can range from mild to severe. Treatment often involves a combination of psychotherapy (talk therapy), medications, and lifestyle changes. However, it's important to consult a healthcare professional for an accurate diagnosis and treatment plan. Please seek medical attention as soon as possible.\", \"prompt\\n-----------\\nI've been experiencing frequent heartburn, a sour taste in my mouth, and difficulty swallowing. What could this be?\\n-----------\\nresponse\\n-----------\\nYour symptoms suggest that you might have Gastroesophageal Reflux Disease (GERD). GERD is a chronic condition where stomach acid frequently flows back into the tube connecting your mouth and stomach (esophagus). The severity can range from mild to severe. Treatment often involves lifestyle changes, over-the-counter medications, prescription medications, or surgery in severe cases. It's important to consult a healthcare professional for an accurate diagnosis and treatment plan. Please seek medical attention as soon as possible.\", \"prompt\\n-----------\\nI've been experiencing a persistent cough, chest pain, and weight loss. What could this be?\\n-----------\\nresponse\\n-----------\\nYour symptoms suggest that you might have Tuberculosis (TB). TB is a potentially serious infectious disease that mainly affects your lungs. The severity can range from latent TB (no symptoms) to active TB (symptoms like the ones you've described). Treatment typically involves a course of several antibiotics for 6 to 9 months. It's important to consult a healthcare professional for an accurate diagnosis and treatment plan. Please seek medical attention as soon as possible.\", \"prompt\\n-----------\\nI've been experiencing severe abdominal pain, bloating, and constipation. What could this be?\\n-----------\\nresponse\\n-----------\\nYour symptoms suggest that you might have Irritable Bowel Syndrome (IBS). IBS is a common condition that affects the digestive system. The severity can range from mild to severe. Treatment often involves changes in diet and lifestyle, and sometimes medications. Stress management can also be helpful. However, it's important to consult a healthcare professional for an accurate diagnosis and treatment plan. Please seek medical attention as soon as possible.\", \"prompt\\n-----------\\nI've been experiencing severe fatigue, joint pain, and skin rashes. What could this be?\\n-----------\\nresponse\\n-----------\\nYour symptoms suggest that you might have Lupus. Lupus is a systemic autoimmune disease that occurs when your body's immune system attacks your own tissues and organs. The severity of lupus can vary greatly from person to person; some people may only experience mild symptoms, while others may have life-threatening complications. Treatment usually focuses on easing symptoms and reducing inflammation and can include medications and lifestyle changes. It's important to consult a healthcare professional for an accurate diagnosis and treatment plan. Please seek medical attention as soon as possible.\", \"prompt\\n-----------\\nI've been experiencing severe chest pain, shortness of breath, and nausea. What could it be?\\n-----------\\nresponse\\n-----------\\nYour symptoms are serious and could be indicative of a heart attack. A heart attack occurs when blood flow to a part of the heart is blocked, often by a blood clot. This is a medical emergency and can be life-threatening. Immediate treatment is crucial and typically involves medications and surgical procedures. If you are experiencing these symptoms, please seek emergency medical attention immediately.\", \"prompt\\n-----------\\nI've been experiencing sudden confusion, trouble speaking, and difficulty walking. What could this be?\\n-----------\\nresponse\\n-----------\\nYour symptoms are serious and could be indicative of a stroke. A stroke occurs when the blood supply to part of your brain is interrupted or reduced, preventing brain tissue from getting oxygen and nutrients. This is a medical emergency and can be life-threatening. Immediate treatment is crucial and typically involves medications and surgical procedures. If you are experiencing these symptoms, please seek emergency medical attention immediately.\", \"prompt\\n-----------\\nI've been having severe abdominal pain, vomiting, and a fever. What could be the cause?\\n-----------\\nresponse\\n-----------\\nYour symptoms might indicate that you have Appendicitis. Appendicitis is an inflammation of the appendix, a finger-shaped pouch that projects from your colon on the lower right side of your abdomen. This condition is considered a medical emergency and typically requires surgery. If you are experiencing these symptoms, please seek emergency medical attention immediately.\", \"prompt\\n-----------\\nI've been experiencing frequent coughing, wheezing, and shortness of breath. What could it be?\\n-----------\\nresponse\\n-----------\\nYour symptoms suggest that you might have Asthma. Asthma is a condition in which your airways narrow and swell and produce extra mucus. This can make breathing difficult and trigger coughing, wheezing, and shortness of breath. Asthma can't be cured, but its symptoms can be controlled. Treatment often involves avoiding asthma triggers, tracking your symptoms, and using medications to prevent or treat attacks. It's important to consult a healthcare professional for an accurate diagnosis and treatment plan. Please seek medical attention as soon as possible.\", \"prompt\\n-----------\\nI've been having a high fever, severe headache, and muscle pain. What could be the cause?\\n-----------\\nresponse\\n-----------\\nYour symptoms could be indicative of Dengue Fever. Dengue is a mosquito-borne viral infection causing a severe flu-like illness. The severity of dengue symptoms can vary, and in severe cases, can develop into a life-threatening dengue hemorrhagic fever. Treatment focuses on relieving symptoms and includes rest, fluid intake, and pain relievers. However, it's important to consult a healthcare professional for an accurate diagnosis and treatment plan. Please seek medical attention as soon as possible.\", \"prompt\\n-----------\\nI've been having chest pain, pain radiating to the left arm, and shortness of breath. What could be the cause?\\n-----------\\nresponse\\n-----------\\nYour symptoms suggest that you might be experiencing a Heart Attack. A heart attack occurs when the blood supply to part of the heart is blocked, usually by a blood clot. This is a serious, life-threatening condition that requires immediate medical attention. Treatment often involves medications, lifestyle changes, and in some cases, surgical procedures. If you are experiencing these symptoms, please seek emergency medical attention immediately.\", \"prompt\\n-----------\\nI've been experiencing a sudden severe headache, blurred vision, and difficulty speaking. What could be the cause?\\n-----------\\nresponse\\n-----------\\nYour symptoms suggest that you might be having a Stroke. A stroke occurs when the blood supply to part of your brain is interrupted or reduced, preventing brain tissue from getting oxygen and nutrients. This is a serious, life-threatening condition that requires immediate medical attention. Treatment often involves medications, surgery, and rehabilitation. If you are experiencing these symptoms, please seek emergency medical attention immediately.\", \"prompt\\n-----------\\nI've been feeling tired all the time, have shortness of breath, and my heart rate has been high. What could be wrong?\\n-----------\\nresponse\\n-----------\\nThese symptoms could indicate Anemia, a condition where your body lacks enough healthy red blood cells to carry adequate oxygen to your body's tissues. Anemia can be temporary or long-term, and it can range from mild to severe. Treatment typically involves changes in diet, iron supplements, and in more severe cases, medical procedures or surgery. However, it's important to consult a healthcare professional for a proper diagnosis and treatment plan. Please seek medical attention as soon as possible.\", \"prompt\\n-----------\\nI've been experiencing severe thirst, frequent urination, and unexplained weight loss. What could this be?\\n-----------\\nresponse\\n-----------\\nYour symptoms suggest that you might have Diabetes. Diabetes is a chronic condition that affects how your body turns food into energy. The severity can range from mild to severe. Treatment often involves a combination of diet, physical activity, monitoring your blood sugar, and potentially insulin therapy or other medications. However, it's important to consult a healthcare professional for an accurate diagnosis and treatment plan. Please seek medical attention as soon as possible.\", \"prompt\\n-----------\\nI've been having severe chest pain, shortness of breath, and nausea. What could be the cause?\\n-----------\\nresponse\\n-----------\\nYour symptoms are serious and could be indicative of a Heart Attack. A heart attack occurs when the blood supply to part of the heart is blocked, often by a blood clot. This is a medical emergency and can be life-threatening. Immediate treatment is crucial and typically involves medications and surgical procedures. If you are experiencing these symptoms, please seek emergency medical attention immediately.\", \"prompt\\n-----------\\nI've been experiencing severe abdominal pain, vomiting, and a fever. What could be the cause?\\n-----------\\nresponse\\n-----------\\nYour symptoms suggest that you might have Appendicitis. Appendicitis is an inflammation of the appendix, a finger-shaped pouch that projects from your colon on the lower right side of your abdomen. This condition requires immediate medical attention and treatment typically involves surgery to remove the appendix. If you are experiencing these symptoms, please seek emergency medical attention immediately.\", \"prompt\\n-----------\\nI've been experiencing frequent urination, excessive thirst, and unexplained weight loss. What could this be?\\n-----------\\nresponse\\n-----------\\nYour symptoms suggest that you might have Diabetes. Diabetes is a chronic disease that affects how your body turns food into energy. The severity can range from mild to severe. Treatment often involves a combination of diet, physical activity, regular blood sugar monitoring, and sometimes insulin therapy or other medications. However, it's important to consult a healthcare professional for an accurate diagnosis and treatment plan. Please seek medical attention as soon as possible.\", \"prompt\\n-----------\\nI've been experiencing severe headaches, vomiting, and double vision. What could this be?\\n-----------\\nresponse\\n-----------\\nYour symptoms suggest that you might have a Brain Tumor. Brain tumors can be benign (noncancerous) or malignant (cancerous) and their severity can range from mild to severe. Treatment often involves surgery, radiation therapy, and chemotherapy. However, it's important to consult a healthcare professional for an accurate diagnosis and treatment plan. These symptoms are serious, please seek medical attention as soon as possible.\", \"prompt\\n-----------\\nI've been experiencing severe chest pain, shortness of breath, and discomfort in my arms, back, neck, jaw, or stomach. What could this be?\\n-----------\\nresponse\\n-----------\\nYour symptoms suggest that you might be experiencing a Heart Attack. A heart attack occurs when the blood supply to part of the heart is blocked, usually by a blood clot. This is a medical emergency. If you are experiencing these symptoms, please call an ambulance immediately. Treatment usually involves medications and surgical procedures to restore blood flow to the heart. Please seek medical attention immediately.\", 'prompt\\n-----------\\nI have been experiencing severe abdominal pain, vomiting, and a loss of appetite. What could this be?\\n-----------\\nresponse\\n-----------\\nYour symptoms suggest that you might have Appendicitis. Appendicitis is an inflammation of the appendix, a finger-shaped pouch that projects from your colon on the lower right side of your abdomen. This condition is a medical emergency and requires prompt surgery to remove the appendix. If left untreated, an inflamed appendix can burst. If you are experiencing these symptoms, please seek emergency medical attention immediately.', \"prompt\\n-----------\\nI've been experiencing severe joint pain, stiffness, and decreased range of motion. What could this be?\\n-----------\\nresponse\\n-----------\\nYour symptoms suggest that you might have Arthritis. Arthritis is inflammation of one or more of your joints that can cause pain and stiffness. The severity can range from mild to severe. Treatment often involves a combination of medication, physical therapy, and in some cases, surgery. It's important to consult a healthcare professional for an accurate diagnosis and treatment plan. Please seek medical attention as soon as possible.\", \"prompt\\n-----------\\nI've been experiencing a persistent headache, confusion, and difficulty speaking. What could be the issue?\\n-----------\\nresponse\\n-----------\\nYour symptoms suggest that you might be experiencing a stroke. A stroke occurs when the blood supply to part of your brain is interrupted or reduced, preventing brain tissue from getting oxygen and nutrients. This is a medical emergency and immediate treatment is crucial. Treatment often involves medications, surgery, and rehabilitation. If you are experiencing these symptoms, please seek emergency medical attention immediately.\", \"prompt\\n-----------\\nI've been experiencing chest pain, shortness of breath, and nausea. What could this be?\\n-----------\\nresponse\\n-----------\\nYour symptoms suggest that you might be having a Heart Attack. A heart attack occurs when the blood supply to part of the heart muscle is blocked, usually by a blood clot. This is a medical emergency and requires immediate attention. Treatment typically involves medications and surgical procedures. If you are experiencing these symptoms, please seek emergency medical attention immediately.\", \"prompt\\n-----------\\nI've been experiencing frequent urination, increased thirst, and unexplained weight loss. What could this be?\\n-----------\\nresponse\\n-----------\\nYour symptoms suggest that you might have Diabetes. Diabetes is a chronic condition that affects how your body turns food into energy. The severity can range from manageable with lifestyle changes to life-threatening if not properly managed. Treatment often involves a combination of dietary changes, exercise, medication, or insulin therapy. It's important to consult a healthcare professional for an accurate diagnosis and treatment plan. Please seek medical attention as soon as possible.\", \"prompt\\n-----------\\nI've been experiencing severe headaches, vomiting, and blurred vision. What could this be?\\n-----------\\nresponse\\n-----------\\nYour symptoms suggest that you might have a Brain Tumor. Brain tumors can cause a variety of symptoms depending on their size and location in the brain. The severity of a brain tumor can range from benign (non-cancerous) to malignant (cancerous). Treatment often involves surgery, radiation therapy, and chemotherapy. However, it's important to consult a healthcare professional for an accurate diagnosis and treatment plan. Please seek medical attention as soon as possible.\", \"prompt\\n-----------\\nI've been experiencing shortness of breath, fatigue, and swelling in my legs, ankles, and feet. What could be wrong?\\n-----------\\nresponse\\n-----------\\nYour symptoms could be indicative of Heart Failure. Heart failure, also known as congestive heart failure, occurs when your heart muscle doesn't pump blood as well as it should. The severity can range from mild to severe. Treatment often involves a combination of lifestyle changes, medications, and in some cases, surgery. However, it's important to consult a healthcare professional for an accurate diagnosis and treatment plan. Please seek medical attention as soon as possible.\", \"prompt\\n-----------\\nI've been experiencing frequent urination, excessive thirst, and unexplained weight loss. What could this be?\\n-----------\\nresponse\\n-----------\\nYour symptoms suggest that you might have Diabetes. Diabetes is a chronic disease that affects how your body turns food into energy. It's a common condition affecting millions of people worldwide. The severity can range from Type 1 to Type 2. Treatment often involves a combination of diet, physical activity, regular monitoring of blood sugar, and medication or insulin therapy. However, it's important to consult a healthcare professional for an accurate diagnosis and treatment plan. Please seek medical attention as soon as possible.\", \"prompt\\n-----------\\nI've been experiencing severe abdominal pain, vomiting, and loss of appetite. What could this be?\\n-----------\\nresponse\\n-----------\\nYour symptoms suggest that you might have Appendicitis. Appendicitis is an inflammation of the appendix, a small tube that branches off the large intestine. The severity can range from mild to severe, and if left untreated, can lead to a ruptured appendix which can be life-threatening. Treatment typically involves surgery to remove the appendix. However, it's important to consult a healthcare professional for an accurate diagnosis and treatment plan. Please seek medical attention as soon as possible.\", \"prompt\\n-----------\\nI've been experiencing severe headaches, vomiting, and blurred vision. What could this be?\\n-----------\\nresponse\\n-----------\\nYour symptoms suggest that you might have a Brain Tumor. A brain tumor is a mass or growth of abnormal cells in your brain. The severity can range from noncancerous (benign) to cancerous (malignant). Treatment often involves surgery, radiation therapy, and chemotherapy. However, it's important to consult a healthcare professional for an accurate diagnosis and treatment plan. Please seek medical attention as soon as possible.\", \"prompt\\n-----------\\nI've been experiencing excessive thirst, frequent urination, and unexplained weight loss. What could be the issue?\\n-----------\\nresponse\\n-----------\\nYour symptoms suggest that you might have Diabetes. Diabetes is a chronic disease that affects how your body turns food into energy. The severity can range from manageable to life-threatening if not properly treated. Treatment often involves managing blood sugar levels through a combination of diet, exercise, and medication. However, it's important to consult a healthcare professional for an accurate diagnosis and treatment plan. Please seek medical attention as soon as possible.\", \"prompt\\n-----------\\nI've been experiencing frequent urination, pain during urination, and lower back pain. What could this be?\\n-----------\\nresponse\\n-----------\\nYour symptoms suggest that you might have a Urinary Tract Infection (UTI) or Kidney Infection. Both conditions are typically caused by bacteria and can range in severity from mild to severe. Treatment usually involves antibiotics to kill the bacteria causing the infection. It's important to consult a healthcare professional for an accurate diagnosis and treatment plan. Please seek medical attention as soon as possible.\", \"prompt\\n-----------\\nI've been experiencing severe fatigue, joint pain, and skin rashes. What could this be?\\n-----------\\nresponse\\n-----------\\nYour symptoms suggest that you might have Lupus. Lupus is a systemic autoimmune disease that occurs when your body's immune system attacks your own tissues and organs. The severity can range from mild to severe. Treatment often involves a combination of medication, healthy lifestyle habits, and regular monitoring. However, it's important to consult a healthcare professional for an accurate diagnosis and treatment plan. Please seek medical attention as soon as possible.\", \"prompt\\n-----------\\nI've been experiencing severe fatigue, unexplained weight loss, and a persistent cough. What could this be?\\n-----------\\nresponse\\n-----------\\nYour symptoms suggest that you might have Tuberculosis. Tuberculosis is a serious bacterial infection that mainly affects the lungs. The severity can range from latent (no symptoms) to active (symptoms present) disease. Treatment usually involves a course of several antibiotics for 6 to 9 months. However, it's important to consult a healthcare professional for an accurate diagnosis and treatment plan. Please seek medical attention as soon as possible.\", \"prompt\\n-----------\\nI've been experiencing severe abdominal pain, loss of appetite, and jaundice. What could this be?\\n-----------\\nresponse\\n-----------\\nYour symptoms suggest that you might have Gallstones. Gallstones are hard deposits that form in your gallbladder. They can range in size and severity. Treatment often involves lifestyle changes, medications, and in some cases, surgery. It's important to consult a healthcare professional for an accurate diagnosis and treatment plan. Please seek medical attention as soon as possible.\", \"prompt\\n-----------\\nI've been experiencing a high fever, severe headache, and muscle pain. What could this be?\\n-----------\\nresponse\\n-----------\\nYour symptoms could indicate Dengue Fever. Dengue is a mosquito-borne viral infection causing severe flu-like symptoms. The severity can range from mild to severe, potentially developing into severe dengue, which can be fatal. There is no specific treatment for dengue, but adequate hydration and pain relievers can help with symptoms. If you have these symptoms and have recently been in a dengue endemic area, please seek medical attention immediately.\", \"prompt\\n-----------\\nI've been having severe headaches, vomiting, and double vision. What could be the cause?\\n-----------\\nresponse\\n-----------\\nYour symptoms could be indicative of a brain tumor. A brain tumor is a mass or growth of abnormal cells in your brain and can be life-threatening. The severity can range from benign (noncancerous) to malignant (cancerous). Treatment often involves surgery, radiation therapy, and chemotherapy. However, it's important to consult a healthcare professional for an accurate diagnosis and treatment plan. Please seek medical attention as soon as possible.\", \"prompt\\n-----------\\nI've been experiencing a high fever, severe cough, and shortness of breath. What could this be?\\n-----------\\nresponse\\n-----------\\nYour symptoms could be indicative of COVID-19, a highly infectious disease caused by the SARS-CoV-2 virus. Severity can range from mild to severe, with some cases becoming critical. Treatment primarily involves supportive care, including rest, hydration, and over-the-counter remedies. More severe cases may require hospitalization. It's important to get tested and to isolate yourself to prevent spreading the virus to others. Please consult a healthcare professional immediately.\", \"prompt\\n-----------\\nI've been experiencing frequent urination, excessive thirst, and unexplained weight loss. What could be wrong?\\n-----------\\nresponse\\n-----------\\nYour symptoms suggest that you might have Diabetes. Diabetes is a chronic disease that affects how your body turns food into energy. There are different types of diabetes, including Type 1, Type 2, and gestational diabetes. The severity can range from mild to severe. Treatment often involves a combination of diet, exercise, medication, and insulin therapy. However, it's important to consult a healthcare professional for an accurate diagnosis and treatment plan. Please seek medical attention as soon as possible.\", \"prompt\\n-----------\\nI've been having a high fever, severe headache, muscle and joint pain, and a rash. What could be the cause?\\n-----------\\nresponse\\n-----------\\nYour symptoms could be indicative of Zika Virus. Zika is a mosquito-borne viral disease and is also transmitted through sexual contact. The severity of Zika symptoms can vary, and in some cases, it can cause severe birth defects when pregnant women are infected. Treatment focuses on relieving symptoms and includes rest, fluid intake, and over-the-counter pain relievers. However, it's important to consult a healthcare professional for an accurate diagnosis and treatment plan. Please seek medical attention as soon as possible.\", \"prompt\\n-----------\\nI've been experiencing chest pain, shortness of breath, and nausea. What could this be?\\n-----------\\nresponse\\n-----------\\nYour symptoms could be indicative of a heart attack. A heart attack occurs when the blood supply to part of the heart muscle is blocked, usually by a blood clot. This is a medical emergency and can be life-threatening. Immediate treatment is crucial and typically involves medications and surgical procedures. If you are experiencing these symptoms, please seek emergency medical attention immediately.\", \"prompt\\n-----------\\nI've been having severe abdominal pain, bloating, and constipation. What could be causing this?\\n-----------\\nresponse\\n-----------\\nYour symptoms could be indicative of Irritable Bowel Syndrome (IBS). IBS is a common disorder that affects the large intestine and can cause a variety of symptoms, including the ones you've described. The severity of IBS varies from person to person. Treatment often involves dietary changes, medication, and stress management. However, it's important to consult a healthcare professional for an accurate diagnosis and treatment plan. Please seek medical attention as soon as possible.\", \"prompt\\n-----------\\nI've been experiencing chest pain, shortness of breath, and nausea. What could this be?\\n-----------\\nresponse\\n-----------\\nYour symptoms suggest that you might be experiencing a heart attack. A heart attack occurs when the blood flow that brings oxygen to the heart muscle is severely reduced or cut off completely. This is a medical emergency and immediate treatment is crucial. Treatment often involves medications, surgery, and lifestyle changes. If you are experiencing these symptoms, please seek emergency medical attention immediately.\", \"prompt\\n-----------\\nI've been feeling a lump in my breast, changes in breast shape, and skin changes around the nipple. What could this be?\\n-----------\\nresponse\\n-----------\\nYour symptoms suggest that you might have Breast Cancer. Breast cancer is a disease in which cells in the breast grow out of control. The severity can range from early-stage to advanced. Treatment often involves a combination of surgery, radiation therapy, chemotherapy, and hormone therapy. However, it's important to consult a healthcare professional for an accurate diagnosis and treatment plan. Please seek medical attention as soon as possible.\"]\n"
          ]
        }
      ]
    },
    {
      "cell_type": "markdown",
      "source": [
        "**System Message**"
      ],
      "metadata": {
        "id": "pSDFEtufEoKR"
      }
    },
    {
      "cell_type": "code",
      "source": [
        "def generate_system_message(prompt):\n",
        "\n",
        "    response = openai.ChatCompletion.create(\n",
        "        model=\"gpt-4\",\n",
        "        messages=[\n",
        "          {\n",
        "            \"role\": \"system\",\n",
        "            \"content\": \"You will be given a high-level description of the model we are training, and from that, you will generate a simple system prompt for that model to use. Remember, you are not generating the system message for data generation -- you are generating the system message to use for inference. A good format to follow is `Given $INPUT_DATA, you will $WHAT_THE_MODEL_SHOULD_DO.`.\\n\\nMake it as concise as possible. Include nothing but the system prompt in your response.\\n\\nFor example, never write: `\\\"$SYSTEM_PROMPT_HERE\\\"`.\\n\\nIt should be like: `$SYSTEM_PROMPT_HERE`.\"\n",
        "          },\n",
        "          {\n",
        "              \"role\": \"user\",\n",
        "              \"content\": prompt.strip(),\n",
        "          }\n",
        "        ],\n",
        "        temperature=temperature,\n",
        "        max_tokens=500,\n",
        "    )\n",
        "\n",
        "    return response.choices[0].message['content']\n",
        "\n",
        "system_message = generate_system_message(prompt)\n",
        "\n",
        "print(f'The system message is: `{system_message}`. Feel free to re-run this cell if you want a better result.')"
      ],
      "metadata": {
        "id": "DZYdivlOEvaD",
        "colab": {
          "base_uri": "https://localhost:8080/"
        },
        "outputId": "034e6118-77f6-4ed8-9a54-0ba073393d86"
      },
      "execution_count": null,
      "outputs": [
        {
          "output_type": "stream",
          "name": "stdout",
          "text": [
            "The system message is: `Given your illness-related question, the model will provide information on the severity of the illness, the number of cases, and potential treatments.`. Feel free to re-run this cell if you want a better result.\n"
          ]
        }
      ]
    },
    {
      "cell_type": "markdown",
      "source": [
        "# **Create Training Data in the Format required for GPT-3.5 Fine-Tuning**"
      ],
      "metadata": {
        "id": "CBTWdBTUFET9"
      }
    },
    {
      "cell_type": "code",
      "source": [
        "import json\n",
        "import pandas as pd\n",
        "\n",
        "# Initialize lists to store prompts and responses\n",
        "prompts = []\n",
        "responses = []\n",
        "\n",
        "# Parse out prompts and responses from examples\n",
        "for example in prev_examples:\n",
        "  try:\n",
        "    split_example = example.split('-----------')\n",
        "    prompts.append(split_example[1].strip())\n",
        "    responses.append(split_example[3].strip())\n",
        "  except:\n",
        "    pass\n",
        "\n",
        "# Create a DataFrame\n",
        "df = pd.DataFrame({\n",
        "    'prompt': prompts,\n",
        "    'response': responses\n",
        "})\n",
        "\n",
        "# Remove duplicates\n",
        "df = df.drop_duplicates()\n",
        "\n",
        "print('There are ' + str(len(df)) + ' successfully-generated examples.')\n",
        "\n",
        "# Initialize list to store training examples\n",
        "training_examples = []\n",
        "\n",
        "# Create training examples in the format required for GPT-3.5 fine-tuning\n",
        "for index, row in df.iterrows():\n",
        "    training_example = {\n",
        "        \"messages\": [\n",
        "            {\"role\": \"system\", \"content\": system_message.strip()},\n",
        "            {\"role\": \"user\", \"content\": row['prompt']},\n",
        "            {\"role\": \"assistant\", \"content\": row['response']}\n",
        "        ]\n",
        "    }\n",
        "    training_examples.append(training_example)\n",
        "\n",
        "# Save training examples to a .jsonl file\n",
        "with open('training_examples.jsonl', 'w') as f:\n",
        "    for example in training_examples:\n",
        "        f.write(json.dumps(example) + '\\n')"
      ],
      "metadata": {
        "id": "Jq9NCykiFQA9",
        "colab": {
          "base_uri": "https://localhost:8080/"
        },
        "outputId": "ed0b619d-0030-4e99-b6b6-c37b1329f04d"
      },
      "execution_count": null,
      "outputs": [
        {
          "output_type": "stream",
          "name": "stdout",
          "text": [
            "There are 49 successfully-generated examples.\n"
          ]
        }
      ]
    },
    {
      "cell_type": "markdown",
      "source": [
        "# **Model Training**"
      ],
      "metadata": {
        "id": "FtlcqgYQFmcK"
      }
    },
    {
      "cell_type": "markdown",
      "source": [
        "**Upload the data into OpenAI and grab the ID from OpenAI once it upload**"
      ],
      "metadata": {
        "id": "PSO04yad4kpZ"
      }
    },
    {
      "cell_type": "code",
      "source": [
        "file_id = openai.File.create(\n",
        "  file=open(\"/content/training_examples.jsonl\", \"rb\"),\n",
        "  purpose='fine-tune'\n",
        ").id"
      ],
      "metadata": {
        "id": "eUNrRu5SFbcA"
      },
      "execution_count": null,
      "outputs": []
    },
    {
      "cell_type": "markdown",
      "source": [
        "**Fine tune the GPT 3.5 using File ID**"
      ],
      "metadata": {
        "id": "guqFpkiS5XW-"
      }
    },
    {
      "cell_type": "code",
      "source": [
        "job = openai.FineTuningJob.create(training_file=file_id, model=\"gpt-3.5-turbo\")\n",
        "job_id = job.id"
      ],
      "metadata": {
        "id": "6LO3VdXdFsmQ"
      },
      "execution_count": null,
      "outputs": []
    },
    {
      "cell_type": "markdown",
      "source": [
        "# **Infrence from  Fine-Tuned Model**"
      ],
      "metadata": {
        "id": "Y-yp1Z-6Fuxy"
      }
    },
    {
      "cell_type": "code",
      "source": [
        "openai.FineTuningJob.list_events(id=job_id, limit=10)"
      ],
      "metadata": {
        "colab": {
          "base_uri": "https://localhost:8080/"
        },
        "id": "w0QMWWJ1JCht",
        "outputId": "a95d1c51-8ed6-4718-e561-f9e4a23f30c4"
      },
      "execution_count": null,
      "outputs": [
        {
          "output_type": "execute_result",
          "data": {
            "text/plain": [
              "<OpenAIObject list at 0x7913d8a158f0> JSON: {\n",
              "  \"object\": \"list\",\n",
              "  \"data\": [\n",
              "    {\n",
              "      \"object\": \"fine_tuning.job.event\",\n",
              "      \"id\": \"ftevent-4P0JgCumbEL8YBnKrHj8AcgN\",\n",
              "      \"created_at\": 1694752740,\n",
              "      \"level\": \"info\",\n",
              "      \"message\": \"The job has successfully completed\",\n",
              "      \"data\": {},\n",
              "      \"type\": \"message\"\n",
              "    },\n",
              "    {\n",
              "      \"object\": \"fine_tuning.job.event\",\n",
              "      \"id\": \"ftevent-Nqo9d1HTh6EiHNgsptfczH9L\",\n",
              "      \"created_at\": 1694752738,\n",
              "      \"level\": \"info\",\n",
              "      \"message\": \"New fine-tuned model created: ft:gpt-3.5-turbo-0613:personal::7yutWnZt\",\n",
              "      \"data\": {},\n",
              "      \"type\": \"message\"\n",
              "    },\n",
              "    {\n",
              "      \"object\": \"fine_tuning.job.event\",\n",
              "      \"id\": \"ftevent-d72jryDt7CerW1wRaJSBKFgT\",\n",
              "      \"created_at\": 1694752719,\n",
              "      \"level\": \"info\",\n",
              "      \"message\": \"Step 141/147: training loss=0.09\",\n",
              "      \"data\": {\n",
              "        \"step\": 141,\n",
              "        \"train_loss\": 0.09374962747097015,\n",
              "        \"train_mean_token_accuracy\": 0.9634146094322205\n",
              "      },\n",
              "      \"type\": \"metrics\"\n",
              "    },\n",
              "    {\n",
              "      \"object\": \"fine_tuning.job.event\",\n",
              "      \"id\": \"ftevent-6fu0azakckp5KBQkA4cP58oO\",\n",
              "      \"created_at\": 1694752701,\n",
              "      \"level\": \"info\",\n",
              "      \"message\": \"Step 131/147: training loss=0.37\",\n",
              "      \"data\": {\n",
              "        \"step\": 131,\n",
              "        \"train_loss\": 0.37216317653656006,\n",
              "        \"train_mean_token_accuracy\": 0.9200000166893005\n",
              "      },\n",
              "      \"type\": \"metrics\"\n",
              "    },\n",
              "    {\n",
              "      \"object\": \"fine_tuning.job.event\",\n",
              "      \"id\": \"ftevent-W3dEWLCvJQVVEx0ZqSCYW9n6\",\n",
              "      \"created_at\": 1694752685,\n",
              "      \"level\": \"info\",\n",
              "      \"message\": \"Step 121/147: training loss=0.18\",\n",
              "      \"data\": {\n",
              "        \"step\": 121,\n",
              "        \"train_loss\": 0.1768573671579361,\n",
              "        \"train_mean_token_accuracy\": 0.948051929473877\n",
              "      },\n",
              "      \"type\": \"metrics\"\n",
              "    },\n",
              "    {\n",
              "      \"object\": \"fine_tuning.job.event\",\n",
              "      \"id\": \"ftevent-xb5SPpQCE8Uq0gqc4yXHOS6e\",\n",
              "      \"created_at\": 1694752666,\n",
              "      \"level\": \"info\",\n",
              "      \"message\": \"Step 111/147: training loss=0.35\",\n",
              "      \"data\": {\n",
              "        \"step\": 111,\n",
              "        \"train_loss\": 0.3506687879562378,\n",
              "        \"train_mean_token_accuracy\": 0.8947368264198303\n",
              "      },\n",
              "      \"type\": \"metrics\"\n",
              "    },\n",
              "    {\n",
              "      \"object\": \"fine_tuning.job.event\",\n",
              "      \"id\": \"ftevent-OMFDQ4UzWZSUpERgMtLbkfnZ\",\n",
              "      \"created_at\": 1694752650,\n",
              "      \"level\": \"info\",\n",
              "      \"message\": \"Step 101/147: training loss=0.30\",\n",
              "      \"data\": {\n",
              "        \"step\": 101,\n",
              "        \"train_loss\": 0.30214351415634155,\n",
              "        \"train_mean_token_accuracy\": 0.8630136847496033\n",
              "      },\n",
              "      \"type\": \"metrics\"\n",
              "    },\n",
              "    {\n",
              "      \"object\": \"fine_tuning.job.event\",\n",
              "      \"id\": \"ftevent-OH3GUt9wpxjKFU3GYWYT2QjJ\",\n",
              "      \"created_at\": 1694752632,\n",
              "      \"level\": \"info\",\n",
              "      \"message\": \"Step 91/147: training loss=0.25\",\n",
              "      \"data\": {\n",
              "        \"step\": 91,\n",
              "        \"train_loss\": 0.24739117920398712,\n",
              "        \"train_mean_token_accuracy\": 0.9363636374473572\n",
              "      },\n",
              "      \"type\": \"metrics\"\n",
              "    },\n",
              "    {\n",
              "      \"object\": \"fine_tuning.job.event\",\n",
              "      \"id\": \"ftevent-xDKS4iQjWMLVX8CxeP8YqvCu\",\n",
              "      \"created_at\": 1694752616,\n",
              "      \"level\": \"info\",\n",
              "      \"message\": \"Step 81/147: training loss=0.27\",\n",
              "      \"data\": {\n",
              "        \"step\": 81,\n",
              "        \"train_loss\": 0.27101990580558777,\n",
              "        \"train_mean_token_accuracy\": 0.9090909361839294\n",
              "      },\n",
              "      \"type\": \"metrics\"\n",
              "    },\n",
              "    {\n",
              "      \"object\": \"fine_tuning.job.event\",\n",
              "      \"id\": \"ftevent-eXs3gxasXVQIKzTqz9merkRq\",\n",
              "      \"created_at\": 1694752597,\n",
              "      \"level\": \"info\",\n",
              "      \"message\": \"Step 71/147: training loss=0.41\",\n",
              "      \"data\": {\n",
              "        \"step\": 71,\n",
              "        \"train_loss\": 0.41159847378730774,\n",
              "        \"train_mean_token_accuracy\": 0.8705882430076599\n",
              "      },\n",
              "      \"type\": \"metrics\"\n",
              "    }\n",
              "  ],\n",
              "  \"has_more\": true\n",
              "}"
            ]
          },
          "metadata": {},
          "execution_count": 26
        }
      ]
    },
    {
      "cell_type": "markdown",
      "source": [
        "**Get the Model ID using fine_tuned_model Field**"
      ],
      "metadata": {
        "id": "XI8QP7XA6eXa"
      }
    },
    {
      "cell_type": "code",
      "source": [
        "model_name_pre_object = openai.FineTuningJob.retrieve(job_id)\n",
        "model_name = model_name_pre_object.fine_tuned_model\n",
        "print(model_name)"
      ],
      "metadata": {
        "id": "Bdcw198GF4M9",
        "colab": {
          "base_uri": "https://localhost:8080/"
        },
        "outputId": "c796dd80-7ec6-4b3e-ebdb-5d1451e4fc34"
      },
      "execution_count": null,
      "outputs": [
        {
          "output_type": "stream",
          "name": "stdout",
          "text": [
            "ft:gpt-3.5-turbo-0613:personal::7yutWnZt\n"
          ]
        }
      ]
    },
    {
      "cell_type": "markdown",
      "source": [
        "**Response for Generated training Query**"
      ],
      "metadata": {
        "id": "jXjOpTvo6xYM"
      }
    },
    {
      "cell_type": "code",
      "source": [
        "response = openai.ChatCompletion.create(\n",
        "    model=model_name,\n",
        "    messages=[\n",
        "      {\n",
        "        \"role\": \"system\",\n",
        "        \"content\": system_message,\n",
        "      },\n",
        "      {\n",
        "          \"role\": \"user\",\n",
        "          \"content\": df['prompt'].sample().values[0],\n",
        "      }\n",
        "    ],\n",
        ")\n",
        "\n",
        "response.choices[0].message['content']"
      ],
      "metadata": {
        "id": "ws6Sn-ZUF6-w",
        "colab": {
          "base_uri": "https://localhost:8080/",
          "height": 87
        },
        "outputId": "3e58a103-e0e3-4737-ce63-d429fa4ba751"
      },
      "execution_count": null,
      "outputs": [
        {
          "output_type": "execute_result",
          "data": {
            "text/plain": [
              "'Your symptoms are serious and could indicate a heart attack. A heart attack occurs when the blood flow that brings oxygen to the heart muscle is severely reduced or cut off. This is a medical emergency and you should seek immediate medical attention. Treatment often involves medications and surgical procedures. Please go to the emergency room or call emergency services right away.'"
            ],
            "application/vnd.google.colaboratory.intrinsic+json": {
              "type": "string"
            }
          },
          "metadata": {},
          "execution_count": 23
        }
      ]
    },
    {
      "cell_type": "markdown",
      "source": [
        "**Response for User Query**"
      ],
      "metadata": {
        "id": "Wo5BrwjN68l7"
      }
    },
    {
      "cell_type": "code",
      "source": [
        "response = openai.ChatCompletion.create(\n",
        "    model=model_name,\n",
        "    messages=[\n",
        "      {\n",
        "        \"role\": \"system\",\n",
        "        \"content\": system_message,\n",
        "      },\n",
        "      {\n",
        "          \"role\": \"user\",\n",
        "          \"content\": \"Tell me about Influenza ?\",\n",
        "      }\n",
        "    ],\n",
        ")\n",
        "\n",
        "response.choices[0].message['content']"
      ],
      "metadata": {
        "colab": {
          "base_uri": "https://localhost:8080/",
          "height": 140
        },
        "id": "9CjD609WJZFh",
        "outputId": "ba9bc7af-c7fc-4fbc-cefb-6adb615f8a71"
      },
      "execution_count": null,
      "outputs": [
        {
          "output_type": "execute_result",
          "data": {
            "text/plain": [
              "\"Influenza, commonly known as the flu, is a contagious respiratory illness caused by influenza viruses. It can cause mild to severe illness, and at times can lead to death. The severity can vary depending on the individual and the virus strain. Symptoms often include fever, cough, sore throat, muscle aches, fatigue, and runny or stuffy nose. The best way to prevent influenza is vaccination. Treatment usually involves rest, fluids, and over-the-counter medicines to reduce symptoms. In some cases, antiviral drugs may be prescribed to help lessen the severity and duration of the illness. It's important to contact a healthcare professional for an accurate diagnosis and guidance on treatment. Please consult a doctor if you're experiencing symptoms or have any concerns.\""
            ],
            "application/vnd.google.colaboratory.intrinsic+json": {
              "type": "string"
            }
          },
          "metadata": {},
          "execution_count": 30
        }
      ]
    }
  ]
}